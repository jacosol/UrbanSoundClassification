{
 "cells": [
  {
   "cell_type": "code",
   "execution_count": 130,
   "metadata": {},
   "outputs": [],
   "source": [
    "import numpy as np\n",
    "import matplotlib.pyplot as plt\n",
    "import torch.nn as nn\n",
    "import librosa as lb\n",
    "import pandas as pd\n",
    "import glob\n",
    "import os\n",
    "import wave\n",
    "import inspect"
   ]
  },
  {
   "cell_type": "code",
   "execution_count": 165,
   "metadata": {},
   "outputs": [],
   "source": [
    " \n",
    "def load_plot_rand_sample(datasetpath, label=0):\n",
    "    \"\"\"Load a .wav file from the dataset and displays it with the label\n",
    "    \n",
    "    Arguments:\n",
    "    \n",
    "    datasetpath : string, path to the training or testing set (must contain the train.csv file)\n",
    "    \"\"\" \n",
    "    if not label:\n",
    "        infos = pd.read_csv(os.path.join(datasetpath, \"train.csv\"))\n",
    "        files = [y for x in os.walk(datasetpath) for y in glob.glob(os.path.join(x[0], '*.wav'))]\n",
    "        index = np.random.randint(0,len(files)-1)\n",
    "        print(index)\n",
    "        print(files[index])\n",
    "        data, sampling_rate = lb.load(files[index])\n",
    "        label = infos.iloc[index].Class\n",
    "    \n",
    "    plt.plot(data)\n",
    "    plt.title(label)\n",
    "    plt.show()\n",
    "    "
   ]
  },
  {
   "cell_type": "markdown",
   "metadata": {},
   "source": [
    "# Dataset characterization\n",
    "## Audio features statistics\n",
    "Below I try loading each of the samples in the training set with audioread and build statistics about number of channels, samplerate and duration. Histograms of the results are shown.\n",
    "#### IMPORTANT NOTE: some audio files will not load correctly if you have not installed ffmpeg before. "
   ]
  },
  {
   "cell_type": "code",
   "execution_count": 60,
   "metadata": {},
   "outputs": [
    {
     "data": {
      "text/plain": [
       "<Figure size 432x288 with 0 Axes>"
      ]
     },
     "metadata": {},
     "output_type": "display_data"
    }
   ],
   "source": [
    "#collect statistics on the train dataset\n",
    "import audioread\n",
    "channels = []\n",
    "samplerates = []\n",
    "durations = []\n",
    "for filename in files:\n",
    "    with audioread.audio_open(filename) as f:\n",
    "        channels.append(f.channels)\n",
    "        samplerates.append(f.samplerate)\n",
    "        durations.append(f.duration) \n"
   ]
  },
  {
   "cell_type": "code",
   "execution_count": 138,
   "metadata": {},
   "outputs": [
    {
     "data": {
      "image/png": "[encoded data removed]",
      "text/plain": [
       "<Figure size 720x720 with 3 Axes>"
      ]
     },
     "metadata": {
      "needs_background": "light"
     },
     "output_type": "display_data"
    }
   ],
   "source": [
    "#plot the characteristics of the sounds in the dataset\n",
    "stats = [channels, samplerates, durations]\n",
    "labels = ['channels', 'samplerates', 'durations']\n",
    "xlabels = ['N channels', 'Hz', 'seconds']\n",
    "fig = plt.figure(figsize=(10,10))\n",
    "k = -1\n",
    "for stat in stats:\n",
    "    k = k+1\n",
    "    plt.subplot(1,3,k+1)\n",
    "    plt.hist(stat,20)\n",
    "    plt.title(labels[k], fontsize = 18)\n",
    "    plt.xlabel(xlabels[k], fontsize = 15)\n",
    "plt.subplots_adjust(top = 0.45, wspace = 0.4)\n",
    "plt.show()"
   ]
  },
  {
   "cell_type": "markdown",
   "metadata": {},
   "source": [
    "As we can see, there is variability in all the three sound characteristics unedr exhamination. We will make use of librosa and set some keywords arguments in the librosa.load() function in order to homogeneize the dataset. Librosa will automatically set the samplerate to 22050Hz and we will have to pass the 'mono' argument like such:"
   ]
  },
  {
   "cell_type": "code",
   "execution_count": 134,
   "metadata": {},
   "outputs": [
    {
     "name": "stdout",
     "output_type": "stream",
     "text": [
      "(88200,)\n",
      "22050\n"
     ]
    }
   ],
   "source": [
    "#example of how to load a sample with fixed nchannels\n",
    "data, sr = lb.load(files[0], mono = True)\n",
    "print(data.shape)\n",
    "print(sr)"
   ]
  },
  {
   "cell_type": "markdown",
   "metadata": {},
   "source": [
    "Another problem is that the lengths of the audio files are not the same. The majority of samples is 4s long but there are quite a few that are shorter. To resolve this, we are going to pad the short samples with zeros before passing them to the model."
   ]
  },
  {
   "cell_type": "markdown",
   "metadata": {},
   "source": [
    "## Dataset labels distribution\n",
    "Next, let's check wheter we have a similar number of audio examples for each of the classes we want to classifiy. To do that we first load the train.csv file as a pandas dataframe, then we look at the number of different counts for each label."
   ]
  },
  {
   "cell_type": "code",
   "execution_count": 95,
   "metadata": {},
   "outputs": [],
   "source": [
    "infos = pd.read_csv(os.path.join(path, \"train.csv\"))"
   ]
  },
  {
   "cell_type": "code",
   "execution_count": 96,
   "metadata": {},
   "outputs": [
    {
     "data": {
      "text/html": [
       "<div>\n",
       "<style scoped>\n",
       "    .dataframe tbody tr th:only-of-type {\n",
       "        vertical-align: middle;\n",
       "    }\n",
       "\n",
       "    .dataframe tbody tr th {\n",
       "        vertical-align: top;\n",
       "    }\n",
       "\n",
       "    .dataframe thead th {\n",
       "        text-align: right;\n",
       "    }\n",
       "</style>\n",
       "<table border=\"1\" class=\"dataframe\">\n",
       "  <thead>\n",
       "    <tr style=\"text-align: right;\">\n",
       "      <th></th>\n",
       "      <th>ID</th>\n",
       "      <th>Class</th>\n",
       "    </tr>\n",
       "  </thead>\n",
       "  <tbody>\n",
       "    <tr>\n",
       "      <th>0</th>\n",
       "      <td>0</td>\n",
       "      <td>siren</td>\n",
       "    </tr>\n",
       "    <tr>\n",
       "      <th>1</th>\n",
       "      <td>1</td>\n",
       "      <td>street_music</td>\n",
       "    </tr>\n",
       "    <tr>\n",
       "      <th>2</th>\n",
       "      <td>2</td>\n",
       "      <td>drilling</td>\n",
       "    </tr>\n",
       "    <tr>\n",
       "      <th>3</th>\n",
       "      <td>3</td>\n",
       "      <td>siren</td>\n",
       "    </tr>\n",
       "    <tr>\n",
       "      <th>4</th>\n",
       "      <td>4</td>\n",
       "      <td>dog_bark</td>\n",
       "    </tr>\n",
       "    <tr>\n",
       "      <th>5</th>\n",
       "      <td>6</td>\n",
       "      <td>children_playing</td>\n",
       "    </tr>\n",
       "    <tr>\n",
       "      <th>6</th>\n",
       "      <td>10</td>\n",
       "      <td>street_music</td>\n",
       "    </tr>\n",
       "    <tr>\n",
       "      <th>7</th>\n",
       "      <td>11</td>\n",
       "      <td>drilling</td>\n",
       "    </tr>\n",
       "    <tr>\n",
       "      <th>8</th>\n",
       "      <td>12</td>\n",
       "      <td>gun_shot</td>\n",
       "    </tr>\n",
       "    <tr>\n",
       "      <th>9</th>\n",
       "      <td>15</td>\n",
       "      <td>dog_bark</td>\n",
       "    </tr>\n",
       "  </tbody>\n",
       "</table>\n",
       "</div>"
      ],
      "text/plain": [
       "   ID             Class\n",
       "0   0             siren\n",
       "1   1      street_music\n",
       "2   2          drilling\n",
       "3   3             siren\n",
       "4   4          dog_bark\n",
       "5   6  children_playing\n",
       "6  10      street_music\n",
       "7  11          drilling\n",
       "8  12          gun_shot\n",
       "9  15          dog_bark"
      ]
     },
     "execution_count": 96,
     "metadata": {},
     "output_type": "execute_result"
    }
   ],
   "source": [
    "infos[:10]"
   ]
  },
  {
   "cell_type": "code",
   "execution_count": 129,
   "metadata": {},
   "outputs": [
    {
     "name": "stdout",
     "output_type": "stream",
     "text": [
      "different sound categories : \n",
      "air_conditioner, engine_idling, gun_shot, jackhammer, street_music, drilling, children_playing, dog_bark, siren, car_horn\n"
     ]
    },
    {
     "data": {
      "image/png": "[encoded data removed]",
      "text/plain": [
       "<Figure size 432x288 with 1 Axes>"
      ]
     },
     "metadata": {
      "needs_background": "light"
     },
     "output_type": "display_data"
    }
   ],
   "source": [
    "from collections import Counter\n",
    "\n",
    "labels = ', '.join(list(set(infos['Class'])))\n",
    "print(f'different sound categories : \\n{labels}')\n",
    "\n",
    "count_dict = Counter(infos['Class'])\n",
    "Ns = []\n",
    "for key, values in count_dict.items():\n",
    "    Ns.append(values)\n",
    "plt.bar(range(len(count_dict.keys())), Ns,)\n",
    "plt.xticks(range(len(count_dict.keys())),  count_dict.keys(), rotation='vertical', fontsize = 15)\n",
    "\n",
    "plt.show()"
   ]
  },
  {
   "cell_type": "markdown",
   "metadata": {},
   "source": [
    "The dataset is fairly homogeneus but it has less gun shots and car horns. (I can understand it might hopefully be difficult to record gun shots in an urban environment but why such few ca horns??)"
   ]
  },
  {
   "cell_type": "markdown",
   "metadata": {},
   "source": [
    "# Dataset and Dataloaders for pytorch\n",
    "### The Dataset class"
   ]
  },
  {
   "cell_type": "code",
   "execution_count": 208,
   "metadata": {},
   "outputs": [],
   "source": [
    "from torch.utils.data import Dataset, DataLoader\n",
    "import os\n",
    "import glob\n",
    "\n",
    "class UrbanSoundDataset(Dataset):\n",
    "    \n",
    "    def __init__(self, datapath, transforms, train_or_test, sample_len=4*22050):\n",
    "        self.sample_len = sample_len\n",
    "        self.path = datapath\n",
    "        self.files = [y for x in os.walk(self.path) for y in glob.glob(os.path.join(x[0], '*.wav'))]\n",
    "        self.len = len(files)\n",
    "        self.transforms = transforms\n",
    "        if train_or_test == 'train':\n",
    "            self.infos = pd.read_csv(os.path.join(self.path, 'train.csv'))\n",
    "        elif train_or_test == 'test':\n",
    "            self.infos = pd.read_csv(os.path.join(self.path, 'train.csv'))\n",
    "        else:\n",
    "            print('WARNING: the train_or_test argument should be a string <train> or <test> ')\n",
    "            1/0\n",
    "        \n",
    "        self.classes = sorted(set(infos.Class))\n",
    "        \n",
    "    def __getitem__(self, index):\n",
    "        sample, sr = lb.load(files[index], mono = True)\n",
    "        if len(sample) < self.sample_len:\n",
    "            sample = np.insert(sample, 0, np.zeros(self.sample_len - len(sample)))\n",
    "        label_str = self.infos.iloc[index].Class\n",
    "        label = [1 if l == label_str else 0 for l in self.classes]\n",
    "        label = torch.FloatTensor(label)\n",
    "        if self.transforms:\n",
    "            sample = self.transforms(sample)\n",
    "        return (sample, label)\n",
    "             \n",
    "    def __len__(self):\n",
    "        return self.len"
   ]
  },
  {
   "cell_type": "code",
   "execution_count": 209,
   "metadata": {},
   "outputs": [],
   "source": [
    "train_dataset = UrbanSoundDataset(trainpath, None, 'train')"
   ]
  },
  {
   "cell_type": "code",
   "execution_count": 210,
   "metadata": {},
   "outputs": [
    {
     "data": {
      "text/plain": [
       "[tensor([[ 0.0000,  0.0000,  0.0000,  ...,  0.0737,  0.0737,  0.0000],\n",
       "         [-0.0006, -0.0098, -0.0348,  ...,  0.2316,  0.2393,  0.2899],\n",
       "         [-0.0049, -0.0037, -0.0007,  ...,  0.0271,  0.0015, -0.0113],\n",
       "         ...,\n",
       "         [-0.1020, -0.1543, -0.0709,  ..., -0.0870, -0.0559, -0.0230],\n",
       "         [-0.0312, -0.0544, -0.0591,  ...,  0.0565,  0.0227, -0.0259],\n",
       "         [ 0.0075,  0.0106,  0.0105,  ...,  0.0276,  0.0195,  0.0071]]),\n",
       " tensor([[1., 0., 0., 0., 0., 0., 0., 0., 0., 0.],\n",
       "         [0., 1., 0., 0., 0., 0., 0., 0., 0., 0.],\n",
       "         [0., 0., 0., 0., 0., 1., 0., 0., 0., 0.],\n",
       "         [0., 0., 0., 0., 0., 0., 0., 0., 1., 0.],\n",
       "         [0., 0., 0., 0., 0., 0., 0., 0., 1., 0.],\n",
       "         [0., 0., 0., 1., 0., 0., 0., 0., 0., 0.],\n",
       "         [0., 0., 0., 0., 0., 0., 0., 1., 0., 0.],\n",
       "         [0., 0., 0., 0., 0., 0., 0., 1., 0., 0.],\n",
       "         [0., 0., 1., 0., 0., 0., 0., 0., 0., 0.],\n",
       "         [1., 0., 0., 0., 0., 0., 0., 0., 0., 0.]])]"
      ]
     },
     "execution_count": 210,
     "metadata": {},
     "output_type": "execute_result"
    }
   ],
   "source": [
    "train_loader = DataLoader(train_dataset, 10, shuffle = True)\n",
    "next(iter(train_loader))"
   ]
  },
  {
   "cell_type": "markdown",
   "metadata": {},
   "source": [
    "# Simple 1D conv approach "
   ]
  },
  {
   "cell_type": "code",
   "execution_count": 212,
   "metadata": {},
   "outputs": [
    {
     "data": {
      "text/plain": [
       "[0, 1, 0, 0, 0, 0, 0, 0, 0, 0]"
      ]
     },
     "execution_count": 212,
     "metadata": {},
     "output_type": "execute_result"
    }
   ],
   "source": [
    "class Classifier1D(nn.Module):\n",
    "    def __init__(self):\n",
    "        super(Classifier1D, self).__init__()\n",
    "        self.conv1 = nn.Conv"
   ]
  },
  {
   "cell_type": "code",
   "execution_count": 161,
   "metadata": {},
   "outputs": [
    {
     "data": {
      "text/plain": [
       "['air_conditioner',\n",
       " 'car_horn',\n",
       " 'children_playing',\n",
       " 'dog_bark',\n",
       " 'drilling',\n",
       " 'engine_idling',\n",
       " 'gun_shot',\n",
       " 'jackhammer',\n",
       " 'siren',\n",
       " 'street_music']"
      ]
     },
     "execution_count": 161,
     "metadata": {},
     "output_type": "execute_result"
    }
   ],
   "source": [
    "ls"
   ]
  },
  {
   "cell_type": "code",
   "execution_count": 158,
   "metadata": {},
   "outputs": [
    {
     "data": {
      "text/plain": [
       "['air_conditioner',\n",
       " 'car_horn',\n",
       " 'children_playing',\n",
       " 'dog_bark',\n",
       " 'drilling',\n",
       " 'engine_idling',\n",
       " 'gun_shot',\n",
       " 'jackhammer',\n",
       " 'siren',\n",
       " 'street_music']"
      ]
     },
     "execution_count": 158,
     "metadata": {},
     "output_type": "execute_result"
    }
   ],
   "source": [
    "sorted(ls)"
   ]
  },
  {
   "cell_type": "code",
   "execution_count": 159,
   "metadata": {},
   "outputs": [
    {
     "data": {
      "text/plain": [
       "['air_conditioner',\n",
       " 'engine_idling',\n",
       " 'gun_shot',\n",
       " 'jackhammer',\n",
       " 'street_music',\n",
       " 'drilling',\n",
       " 'children_playing',\n",
       " 'dog_bark',\n",
       " 'siren',\n",
       " 'car_horn']"
      ]
     },
     "execution_count": 159,
     "metadata": {},
     "output_type": "execute_result"
    }
   ],
   "source": [
    "ls"
   ]
  },
  {
   "cell_type": "code",
   "execution_count": null,
   "metadata": {},
   "outputs": [],
   "source": []
  }
 ],
 "metadata": {
  "kernelspec": {
   "display_name": "Python 3",
   "language": "python",
   "name": "python3"
  },
  "language_info": {
   "codemirror_mode": {
    "name": "ipython",
    "version": 3
   },
   "file_extension": ".py",
   "mimetype": "text/x-python",
   "name": "python",
   "nbconvert_exporter": "python",
   "pygments_lexer": "ipython3",
   "version": "3.7.0"
  }
 },
 "nbformat": 4,
 "nbformat_minor": 2
}
